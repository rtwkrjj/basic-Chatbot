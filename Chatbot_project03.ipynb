{
  "cells": [
    {
      "cell_type": "code",
      "execution_count": null,
      "metadata": {
        "colab": {
          "background_save": true,
          "base_uri": "https://localhost:8080/"
        },
        "id": "IkfPFA38iiq2",
        "outputId": "6ab97e5f-c61b-4f6e-b584-e6f762f5f84a"
      },
      "outputs": [
        {
          "name": "stdout",
          "output_type": "stream",
          "text": [
            "🤖 Chatbot: Hello! Type something to begin (type 'exit' to quit).\n",
            "🤖 Chatbot: Australia and South Africa faced off in the WTC Final. Australia dominated with consistent batting and pace bowling. But South Africa lifts the trophy today.broke th record of 27 years\n",
            "🤖 Chatbot: KL Rahul is an all-format player, recently back from injury and contributing as a wicketkeeper-batsman.\n",
            "🤖 Chatbot: I'm not sure I understand. Can you rephrase?\n",
            "🤖 Chatbot: Recently, a plane crash near Ahmedabad Airport claimed 241 lives. The black box has been recovered and investigation is ongoing.\n",
            "🤖 Chatbot: Australia and South Africa faced off in the WTC Final. Australia dominated with consistent batting and pace bowling. But South Africa lifts the trophy today.broke th record of 27 years\n",
            "🤖 Chatbot: I'm not sure I understand. Can you rephrase?\n",
            "🤖 Chatbot: I'm not sure I understand. Can you rephrase?\n",
            "🤖 Chatbot: I was created by Ritwik Raj, a student of BIT Sindri, for his internship projects.\n",
            "🤖 Chatbot: I'm not sure I understand. Can you rephrase?\n",
            "🤖 Chatbot: I'm not sure I understand. Can you rephrase?\n"
          ]
        }
      ],
      "source": [
        "import spacy\n",
        "\n",
        "nlp = spacy.load(\"en_core_web_sm\")\n",
        "\n",
        "#  Intent dictionary with keyword... just filling some details chatbot is going to answer.\n",
        "intents = {\n",
        "    \"greeting\": [\"hello\", \"hi\", \"hey\", \"greet me\"],\n",
        "    \"goodbye\": [\"bye\", \"goodbye\", \"see you\", \"exit\", \"quit\"],\n",
        "    \"help\": [\"help\", \"what can you do\", \"capabilities\"],\n",
        "    \"alphabets\": [\"alphabet\", \"abc\", \"write alphabets\", \"english alphabets\"],\n",
        "\n",
        "    # Current news-based like aeroplane crash or wtc final and about few cricketers , about chatbot, creator...etc\n",
        "\n",
        "    \"pm\": [\"prime minister of india\", \"who is the pm\", \"PM\"],\n",
        "    \"neet2025\": [\"neet result\", \"neet 2025\", \"neet analysis\"],\n",
        "    \"wtcfinal\": [\"wtc final\", \"australia vs south africa\", \"aus vs sa\"],\n",
        "    \"bavuma\": [\"temba bavuma\", \"bavuma\"],\n",
        "    \"kohli\": [\"virat kohli\", \"kohli news\"],\n",
        "    \"rohit\": [\"rohit sharma\", \"captain rohit\"],\n",
        "    \"rahul\": [\"kl rahul\", \"rahul\"],\n",
        "    \"gill\": [\"shubman gill\", \"new test captain\", \"gill\"],\n",
        "    \"summer\": [\"summer\", \"hot weather\", \"how is the summer\"],\n",
        "\n",
        "    \"creator\": [\"who made you\", \"your creator\", \"who created you\"],\n",
        "    \"chatbot\": [\"are you a chatbot\", \"do you like your work\", \"your job\"],\n",
        "    \"user\": [\"who am i\", \"what is my role\", \"about me\"],\n",
        "    \"planecrash\": [\"plane crash\", \"recent crash\", \"airplane accident\"]\n",
        "}\n",
        "\n",
        "#  Responses for each intent, mapping is being done (what chatbot is going to answer to us.)\n",
        "responses = {\n",
        "    \"greeting\": \"Hello! How can I help you today?\",\n",
        "    \"goodbye\": \"Goodbye! Have a great day!\",\n",
        "    \"help\": \"I can answer basic queries like greetings, news, help, and writing alphabets.\",\n",
        "\n",
        "    \"alphabets\": \"A B C D E F G H I J K L M N O P Q R S T U V W X Y Z\",\n",
        "    \"pm\": \"Shri Narendra Modi is the current Prime Minister of India.\",\n",
        "    \"neet2025\": \"NEET 2025 results have sparked debates over cutoff hikes and paper difficulty. Many students are raising concerns about fairness.\",\n",
        "    \"wtcfinal\": \"Australia and South Africa faced off in the WTC Final. Australia dominated with consistent batting and pace bowling. But South Africa lifts the trophy today.broke th record of 27 years\",\n",
        "    \"bavuma\": \"Temba Bavuma is the South African test captain. His leadership has seen both praise and criticism.\",\n",
        "    \"kohli\": \"Virat Kohli continues to be a pillar of Indian cricket, although he is currently not in peak form.\",\n",
        "    \"rohit\": \"Rohit Sharma has been leading India across formats and is known for his calm captaincy.\",\n",
        "    \"rahul\": \"KL Rahul is an all-format player, recently back from injury and contributing as a wicketkeeper-batsman.\",\n",
        "    \"gill\": \"Shubman Gill is expected to lead India’s Test team in future with his consistent performances.\",\n",
        "    \"summer\": \"This summer has seen record temperatures. Stay hydrated and avoid heatstroke!\",\n",
        "\n",
        "    \"creator\": \"I was created by Ritwik Raj, a student of BIT Sindri, for his internship projects.\",\n",
        "    \"chatbot\": \"Yes, I'm a chatbot and I love assisting you. It's my job and I'm happy to do it!\",\n",
        "    \"user\": \"You are a user chatting with me. Ask me anything you'd like!\",\n",
        "    \"planecrash\": \"Recently, a plane crash near Ahmedabad Airport claimed 241 lives. The black box has been recovered and investigation is ongoing.\",\n",
        "\n",
        "    \"unknown\": \"I'm not sure I understand. Can you rephrase?\"\n",
        "}\n",
        "\n",
        "\n",
        "# matches full phrases instead of single token\n",
        "\n",
        "def get_intent(text):\n",
        "    text = text.lower()\n",
        "    for intent, keywords in intents.items():\n",
        "        for keyword in keywords:\n",
        "            if keyword in text:\n",
        "                return intent\n",
        "    return \"unknown\"\n",
        "\n",
        "\n",
        "# Responding to intent\n",
        "\n",
        "def respond(intent):\n",
        "    return responses.get(intent, responses[\"unknown\"])\n",
        "\n",
        "\n",
        "# Chatting loop by loop\n",
        "def chat():\n",
        "    print(\"🤖 Chatbot: Hello! Type something to begin (type 'exit' to quit).\")\n",
        "    while True:\n",
        "        user_input = input(\"You: \")\n",
        "        if user_input.lower() in [\"exit\", \"quit\"]:\n",
        "            print(\"🤖 Chatbot: Goodbye!\")\n",
        "            break\n",
        "        intent = get_intent(user_input)\n",
        "        reply = respond(intent)\n",
        "        print(\"🤖 Chatbot:\", reply)\n",
        "\n",
        "\n",
        "# Running the  chatbot\n",
        "if __name__ == \"__main__\":\n",
        "    chat()\n"
      ]
    },
    {
      "cell_type": "code",
      "execution_count": null,
      "metadata": {
        "id": "R8CH37eiooxt"
      },
      "outputs": [],
      "source": []
    }
  ],
  "metadata": {
    "colab": {
      "provenance": []
    },
    "kernelspec": {
      "display_name": "Python 3",
      "name": "python3"
    },
    "language_info": {
      "name": "python"
    }
  },
  "nbformat": 4,
  "nbformat_minor": 0
}